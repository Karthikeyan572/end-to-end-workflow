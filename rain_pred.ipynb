{
 "cells": [
  {
   "cell_type": "code",
   "execution_count": 378,
   "id": "222a8afa",
   "metadata": {},
   "outputs": [],
   "source": [
    "import pandas as pd\n",
    "import numpy as np\n",
    "import matplotlib.pyplot as plt\n",
    "import seaborn as sns\n",
    "import math\n",
    "from sklearn.preprocessing import StandardScaler , PowerTransformer , OneHotEncoder\n",
    "from sklearn.compose import ColumnTransformer\n",
    "from sklearn.model_selection import train_test_split , RandomizedSearchCV\n",
    "from sklearn.ensemble import RandomForestRegressor\n",
    "from sklearn.linear_model import LogisticRegression\n",
    "from sklearn.svm import SVR\n",
    "from xgboost import XGBRegressor\n",
    "from sklearn.pipeline import Pipeline\n",
    "from sklearn.metrics import r2_score, mean_squared_error, mean_absolute_error, accuracy_score, root_mean_squared_error"
   ]
  },
  {
   "cell_type": "code",
   "execution_count": 379,
   "id": "7b759689",
   "metadata": {},
   "outputs": [
    {
     "data": {
      "text/html": [
       "<div>\n",
       "<style scoped>\n",
       "    .dataframe tbody tr th:only-of-type {\n",
       "        vertical-align: middle;\n",
       "    }\n",
       "\n",
       "    .dataframe tbody tr th {\n",
       "        vertical-align: top;\n",
       "    }\n",
       "\n",
       "    .dataframe thead th {\n",
       "        text-align: right;\n",
       "    }\n",
       "</style>\n",
       "<table border=\"1\" class=\"dataframe\">\n",
       "  <thead>\n",
       "    <tr style=\"text-align: right;\">\n",
       "      <th></th>\n",
       "      <th>Formatted Date</th>\n",
       "      <th>Precip Type</th>\n",
       "      <th>Temperature (C)</th>\n",
       "      <th>Apparent Temperature (C)</th>\n",
       "      <th>Humidity</th>\n",
       "      <th>Wind Speed (km/h)</th>\n",
       "      <th>Wind Bearing (degrees)</th>\n",
       "      <th>Visibility (km)</th>\n",
       "      <th>Cloud Cover</th>\n",
       "      <th>Pressure (millibars)</th>\n",
       "    </tr>\n",
       "  </thead>\n",
       "  <tbody>\n",
       "    <tr>\n",
       "      <th>0</th>\n",
       "      <td>2006-04-01 00:00:00.000 +0200</td>\n",
       "      <td>rain</td>\n",
       "      <td>9.472222</td>\n",
       "      <td>7.388889</td>\n",
       "      <td>0.89</td>\n",
       "      <td>14.1197</td>\n",
       "      <td>251</td>\n",
       "      <td>15.8263</td>\n",
       "      <td>0</td>\n",
       "      <td>1015.13</td>\n",
       "    </tr>\n",
       "    <tr>\n",
       "      <th>1</th>\n",
       "      <td>2006-04-01 01:00:00.000 +0200</td>\n",
       "      <td>rain</td>\n",
       "      <td>9.355556</td>\n",
       "      <td>7.227778</td>\n",
       "      <td>0.86</td>\n",
       "      <td>14.2646</td>\n",
       "      <td>259</td>\n",
       "      <td>15.8263</td>\n",
       "      <td>0</td>\n",
       "      <td>1015.63</td>\n",
       "    </tr>\n",
       "    <tr>\n",
       "      <th>2</th>\n",
       "      <td>2006-04-01 02:00:00.000 +0200</td>\n",
       "      <td>rain</td>\n",
       "      <td>9.377778</td>\n",
       "      <td>9.377778</td>\n",
       "      <td>0.89</td>\n",
       "      <td>3.9284</td>\n",
       "      <td>204</td>\n",
       "      <td>14.9569</td>\n",
       "      <td>0</td>\n",
       "      <td>1015.94</td>\n",
       "    </tr>\n",
       "    <tr>\n",
       "      <th>3</th>\n",
       "      <td>2006-04-01 03:00:00.000 +0200</td>\n",
       "      <td>rain</td>\n",
       "      <td>8.288889</td>\n",
       "      <td>5.944444</td>\n",
       "      <td>0.83</td>\n",
       "      <td>14.1036</td>\n",
       "      <td>269</td>\n",
       "      <td>15.8263</td>\n",
       "      <td>0</td>\n",
       "      <td>1016.41</td>\n",
       "    </tr>\n",
       "    <tr>\n",
       "      <th>4</th>\n",
       "      <td>2006-04-01 04:00:00.000 +0200</td>\n",
       "      <td>rain</td>\n",
       "      <td>8.755556</td>\n",
       "      <td>6.977778</td>\n",
       "      <td>0.83</td>\n",
       "      <td>11.0446</td>\n",
       "      <td>259</td>\n",
       "      <td>15.8263</td>\n",
       "      <td>0</td>\n",
       "      <td>1016.51</td>\n",
       "    </tr>\n",
       "  </tbody>\n",
       "</table>\n",
       "</div>"
      ],
      "text/plain": [
       "                  Formatted Date Precip Type  Temperature (C)  \\\n",
       "0  2006-04-01 00:00:00.000 +0200        rain         9.472222   \n",
       "1  2006-04-01 01:00:00.000 +0200        rain         9.355556   \n",
       "2  2006-04-01 02:00:00.000 +0200        rain         9.377778   \n",
       "3  2006-04-01 03:00:00.000 +0200        rain         8.288889   \n",
       "4  2006-04-01 04:00:00.000 +0200        rain         8.755556   \n",
       "\n",
       "   Apparent Temperature (C)  Humidity  Wind Speed (km/h)  \\\n",
       "0                  7.388889      0.89            14.1197   \n",
       "1                  7.227778      0.86            14.2646   \n",
       "2                  9.377778      0.89             3.9284   \n",
       "3                  5.944444      0.83            14.1036   \n",
       "4                  6.977778      0.83            11.0446   \n",
       "\n",
       "   Wind Bearing (degrees)  Visibility (km)  Cloud Cover  Pressure (millibars)  \n",
       "0                     251          15.8263            0               1015.13  \n",
       "1                     259          15.8263            0               1015.63  \n",
       "2                     204          14.9569            0               1015.94  \n",
       "3                     269          15.8263            0               1016.41  \n",
       "4                     259          15.8263            0               1016.51  "
      ]
     },
     "execution_count": 379,
     "metadata": {},
     "output_type": "execute_result"
    }
   ],
   "source": [
    "df = pd.read_csv(r'D:\\git\\end to end\\weatherHistory.csv')\n",
    "df.head()"
   ]
  },
  {
   "cell_type": "code",
   "execution_count": 380,
   "id": "12cb22b8",
   "metadata": {},
   "outputs": [
    {
     "data": {
      "text/plain": [
       "(96453, 10)"
      ]
     },
     "execution_count": 380,
     "metadata": {},
     "output_type": "execute_result"
    }
   ],
   "source": [
    "df.shape"
   ]
  },
  {
   "cell_type": "code",
   "execution_count": 381,
   "id": "7b6b160f",
   "metadata": {},
   "outputs": [
    {
     "data": {
      "text/plain": [
       "['Formatted Date',\n",
       " 'Precip Type',\n",
       " 'Temperature (C)',\n",
       " 'Apparent Temperature (C)',\n",
       " 'Humidity',\n",
       " 'Wind Speed (km/h)',\n",
       " 'Wind Bearing (degrees)',\n",
       " 'Visibility (km)',\n",
       " 'Cloud Cover',\n",
       " 'Pressure (millibars)']"
      ]
     },
     "execution_count": 381,
     "metadata": {},
     "output_type": "execute_result"
    }
   ],
   "source": [
    "list(df.columns)"
   ]
  },
  {
   "cell_type": "code",
   "execution_count": 382,
   "id": "9c2998b7",
   "metadata": {},
   "outputs": [
    {
     "name": "stdout",
     "output_type": "stream",
     "text": [
      "<class 'pandas.core.frame.DataFrame'>\n",
      "RangeIndex: 96453 entries, 0 to 96452\n",
      "Data columns (total 10 columns):\n",
      " #   Column                    Non-Null Count  Dtype  \n",
      "---  ------                    --------------  -----  \n",
      " 0   Formatted Date            96453 non-null  object \n",
      " 1   Precip Type               95936 non-null  object \n",
      " 2   Temperature (C)           96453 non-null  float64\n",
      " 3   Apparent Temperature (C)  96453 non-null  float64\n",
      " 4   Humidity                  96453 non-null  float64\n",
      " 5   Wind Speed (km/h)         96453 non-null  float64\n",
      " 6   Wind Bearing (degrees)    96453 non-null  int64  \n",
      " 7   Visibility (km)           96453 non-null  float64\n",
      " 8   Cloud Cover               96453 non-null  int64  \n",
      " 9   Pressure (millibars)      96453 non-null  float64\n",
      "dtypes: float64(6), int64(2), object(2)\n",
      "memory usage: 7.4+ MB\n"
     ]
    }
   ],
   "source": [
    "df.info()"
   ]
  },
  {
   "cell_type": "code",
   "execution_count": 383,
   "id": "fefa2a5f",
   "metadata": {},
   "outputs": [
    {
     "data": {
      "text/plain": [
       "Formatted Date                0\n",
       "Precip Type                 517\n",
       "Temperature (C)               0\n",
       "Apparent Temperature (C)      0\n",
       "Humidity                      0\n",
       "Wind Speed (km/h)             0\n",
       "Wind Bearing (degrees)        0\n",
       "Visibility (km)               0\n",
       "Cloud Cover                   0\n",
       "Pressure (millibars)          0\n",
       "dtype: int64"
      ]
     },
     "execution_count": 383,
     "metadata": {},
     "output_type": "execute_result"
    }
   ],
   "source": [
    "df.isna().sum()"
   ]
  },
  {
   "cell_type": "code",
   "execution_count": 384,
   "id": "82d1e5d8",
   "metadata": {},
   "outputs": [],
   "source": [
    "df.dropna(inplace=True)"
   ]
  },
  {
   "cell_type": "code",
   "execution_count": 385,
   "id": "5f9877b6",
   "metadata": {},
   "outputs": [
    {
     "data": {
      "text/html": [
       "<div>\n",
       "<style scoped>\n",
       "    .dataframe tbody tr th:only-of-type {\n",
       "        vertical-align: middle;\n",
       "    }\n",
       "\n",
       "    .dataframe tbody tr th {\n",
       "        vertical-align: top;\n",
       "    }\n",
       "\n",
       "    .dataframe thead th {\n",
       "        text-align: right;\n",
       "    }\n",
       "</style>\n",
       "<table border=\"1\" class=\"dataframe\">\n",
       "  <thead>\n",
       "    <tr style=\"text-align: right;\">\n",
       "      <th></th>\n",
       "      <th>Temperature (C)</th>\n",
       "      <th>Apparent Temperature (C)</th>\n",
       "      <th>Humidity</th>\n",
       "      <th>Wind Speed (km/h)</th>\n",
       "      <th>Wind Bearing (degrees)</th>\n",
       "      <th>Visibility (km)</th>\n",
       "      <th>Cloud Cover</th>\n",
       "      <th>Pressure (millibars)</th>\n",
       "    </tr>\n",
       "  </thead>\n",
       "  <tbody>\n",
       "    <tr>\n",
       "      <th>count</th>\n",
       "      <td>95936.000000</td>\n",
       "      <td>95936.000000</td>\n",
       "      <td>95936.000000</td>\n",
       "      <td>95936.000000</td>\n",
       "      <td>95936.000000</td>\n",
       "      <td>95936.000000</td>\n",
       "      <td>95936.0</td>\n",
       "      <td>95936.000000</td>\n",
       "    </tr>\n",
       "    <tr>\n",
       "      <th>mean</th>\n",
       "      <td>11.940976</td>\n",
       "      <td>10.862531</td>\n",
       "      <td>0.734841</td>\n",
       "      <td>10.804936</td>\n",
       "      <td>187.518773</td>\n",
       "      <td>10.362402</td>\n",
       "      <td>0.0</td>\n",
       "      <td>1003.150038</td>\n",
       "    </tr>\n",
       "    <tr>\n",
       "      <th>std</th>\n",
       "      <td>9.570671</td>\n",
       "      <td>10.717812</td>\n",
       "      <td>0.195724</td>\n",
       "      <td>6.920727</td>\n",
       "      <td>107.385351</td>\n",
       "      <td>4.173780</td>\n",
       "      <td>0.0</td>\n",
       "      <td>117.276976</td>\n",
       "    </tr>\n",
       "    <tr>\n",
       "      <th>min</th>\n",
       "      <td>-21.822222</td>\n",
       "      <td>-27.716667</td>\n",
       "      <td>0.000000</td>\n",
       "      <td>0.000000</td>\n",
       "      <td>0.000000</td>\n",
       "      <td>0.000000</td>\n",
       "      <td>0.0</td>\n",
       "      <td>0.000000</td>\n",
       "    </tr>\n",
       "    <tr>\n",
       "      <th>25%</th>\n",
       "      <td>4.604167</td>\n",
       "      <td>2.276389</td>\n",
       "      <td>0.600000</td>\n",
       "      <td>5.796000</td>\n",
       "      <td>116.000000</td>\n",
       "      <td>8.372000</td>\n",
       "      <td>0.0</td>\n",
       "      <td>1011.890000</td>\n",
       "    </tr>\n",
       "    <tr>\n",
       "      <th>50%</th>\n",
       "      <td>12.033333</td>\n",
       "      <td>12.033333</td>\n",
       "      <td>0.780000</td>\n",
       "      <td>9.933700</td>\n",
       "      <td>180.000000</td>\n",
       "      <td>10.046400</td>\n",
       "      <td>0.0</td>\n",
       "      <td>1016.420000</td>\n",
       "    </tr>\n",
       "    <tr>\n",
       "      <th>75%</th>\n",
       "      <td>18.844444</td>\n",
       "      <td>18.844444</td>\n",
       "      <td>0.890000</td>\n",
       "      <td>14.135800</td>\n",
       "      <td>290.000000</td>\n",
       "      <td>14.812000</td>\n",
       "      <td>0.0</td>\n",
       "      <td>1021.050000</td>\n",
       "    </tr>\n",
       "    <tr>\n",
       "      <th>max</th>\n",
       "      <td>39.905556</td>\n",
       "      <td>39.344444</td>\n",
       "      <td>1.000000</td>\n",
       "      <td>63.852600</td>\n",
       "      <td>359.000000</td>\n",
       "      <td>16.100000</td>\n",
       "      <td>0.0</td>\n",
       "      <td>1046.380000</td>\n",
       "    </tr>\n",
       "  </tbody>\n",
       "</table>\n",
       "</div>"
      ],
      "text/plain": [
       "       Temperature (C)  Apparent Temperature (C)      Humidity  \\\n",
       "count     95936.000000              95936.000000  95936.000000   \n",
       "mean         11.940976                 10.862531      0.734841   \n",
       "std           9.570671                 10.717812      0.195724   \n",
       "min         -21.822222                -27.716667      0.000000   \n",
       "25%           4.604167                  2.276389      0.600000   \n",
       "50%          12.033333                 12.033333      0.780000   \n",
       "75%          18.844444                 18.844444      0.890000   \n",
       "max          39.905556                 39.344444      1.000000   \n",
       "\n",
       "       Wind Speed (km/h)  Wind Bearing (degrees)  Visibility (km)  \\\n",
       "count       95936.000000            95936.000000     95936.000000   \n",
       "mean           10.804936              187.518773        10.362402   \n",
       "std             6.920727              107.385351         4.173780   \n",
       "min             0.000000                0.000000         0.000000   \n",
       "25%             5.796000              116.000000         8.372000   \n",
       "50%             9.933700              180.000000        10.046400   \n",
       "75%            14.135800              290.000000        14.812000   \n",
       "max            63.852600              359.000000        16.100000   \n",
       "\n",
       "       Cloud Cover  Pressure (millibars)  \n",
       "count      95936.0          95936.000000  \n",
       "mean           0.0           1003.150038  \n",
       "std            0.0            117.276976  \n",
       "min            0.0              0.000000  \n",
       "25%            0.0           1011.890000  \n",
       "50%            0.0           1016.420000  \n",
       "75%            0.0           1021.050000  \n",
       "max            0.0           1046.380000  "
      ]
     },
     "execution_count": 385,
     "metadata": {},
     "output_type": "execute_result"
    }
   ],
   "source": [
    "df.describe()"
   ]
  },
  {
   "cell_type": "code",
   "execution_count": 386,
   "id": "e9653fbe",
   "metadata": {},
   "outputs": [
    {
     "data": {
      "text/plain": [
       "Temperature (C)             0.091797\n",
       "Apparent Temperature (C)   -0.059040\n",
       "Humidity                   -0.715026\n",
       "Wind Speed (km/h)           1.115995\n",
       "Wind Bearing (degrees)     -0.154793\n",
       "Visibility (km)            -0.492114\n",
       "Cloud Cover                 0.000000\n",
       "Pressure (millibars)       -8.399381\n",
       "dtype: float64"
      ]
     },
     "execution_count": 386,
     "metadata": {},
     "output_type": "execute_result"
    }
   ],
   "source": [
    "df.skew(numeric_only=True)"
   ]
  },
  {
   "cell_type": "code",
   "execution_count": 387,
   "id": "d248c179",
   "metadata": {},
   "outputs": [
    {
     "data": {
      "text/plain": [
       "Cloud Cover\n",
       "0    95936\n",
       "Name: count, dtype: int64"
      ]
     },
     "execution_count": 387,
     "metadata": {},
     "output_type": "execute_result"
    }
   ],
   "source": [
    "df['Cloud Cover'].value_counts()"
   ]
  },
  {
   "cell_type": "code",
   "execution_count": 388,
   "id": "c26d78e2",
   "metadata": {},
   "outputs": [
    {
     "data": {
      "text/html": [
       "<div>\n",
       "<style scoped>\n",
       "    .dataframe tbody tr th:only-of-type {\n",
       "        vertical-align: middle;\n",
       "    }\n",
       "\n",
       "    .dataframe tbody tr th {\n",
       "        vertical-align: top;\n",
       "    }\n",
       "\n",
       "    .dataframe thead th {\n",
       "        text-align: right;\n",
       "    }\n",
       "</style>\n",
       "<table border=\"1\" class=\"dataframe\">\n",
       "  <thead>\n",
       "    <tr style=\"text-align: right;\">\n",
       "      <th></th>\n",
       "      <th>Formatted Date</th>\n",
       "      <th>Precip Type</th>\n",
       "      <th>Temperature (C)</th>\n",
       "      <th>Apparent Temperature (C)</th>\n",
       "      <th>Humidity</th>\n",
       "      <th>Wind Speed (km/h)</th>\n",
       "      <th>Wind Bearing (degrees)</th>\n",
       "      <th>Visibility (km)</th>\n",
       "      <th>Pressure (millibars)</th>\n",
       "    </tr>\n",
       "  </thead>\n",
       "  <tbody>\n",
       "    <tr>\n",
       "      <th>0</th>\n",
       "      <td>2006-04-01 00:00:00.000 +0200</td>\n",
       "      <td>rain</td>\n",
       "      <td>9.472222</td>\n",
       "      <td>7.388889</td>\n",
       "      <td>0.89</td>\n",
       "      <td>14.1197</td>\n",
       "      <td>251</td>\n",
       "      <td>15.8263</td>\n",
       "      <td>1015.13</td>\n",
       "    </tr>\n",
       "    <tr>\n",
       "      <th>1</th>\n",
       "      <td>2006-04-01 01:00:00.000 +0200</td>\n",
       "      <td>rain</td>\n",
       "      <td>9.355556</td>\n",
       "      <td>7.227778</td>\n",
       "      <td>0.86</td>\n",
       "      <td>14.2646</td>\n",
       "      <td>259</td>\n",
       "      <td>15.8263</td>\n",
       "      <td>1015.63</td>\n",
       "    </tr>\n",
       "    <tr>\n",
       "      <th>2</th>\n",
       "      <td>2006-04-01 02:00:00.000 +0200</td>\n",
       "      <td>rain</td>\n",
       "      <td>9.377778</td>\n",
       "      <td>9.377778</td>\n",
       "      <td>0.89</td>\n",
       "      <td>3.9284</td>\n",
       "      <td>204</td>\n",
       "      <td>14.9569</td>\n",
       "      <td>1015.94</td>\n",
       "    </tr>\n",
       "    <tr>\n",
       "      <th>3</th>\n",
       "      <td>2006-04-01 03:00:00.000 +0200</td>\n",
       "      <td>rain</td>\n",
       "      <td>8.288889</td>\n",
       "      <td>5.944444</td>\n",
       "      <td>0.83</td>\n",
       "      <td>14.1036</td>\n",
       "      <td>269</td>\n",
       "      <td>15.8263</td>\n",
       "      <td>1016.41</td>\n",
       "    </tr>\n",
       "    <tr>\n",
       "      <th>4</th>\n",
       "      <td>2006-04-01 04:00:00.000 +0200</td>\n",
       "      <td>rain</td>\n",
       "      <td>8.755556</td>\n",
       "      <td>6.977778</td>\n",
       "      <td>0.83</td>\n",
       "      <td>11.0446</td>\n",
       "      <td>259</td>\n",
       "      <td>15.8263</td>\n",
       "      <td>1016.51</td>\n",
       "    </tr>\n",
       "  </tbody>\n",
       "</table>\n",
       "</div>"
      ],
      "text/plain": [
       "                  Formatted Date Precip Type  Temperature (C)  \\\n",
       "0  2006-04-01 00:00:00.000 +0200        rain         9.472222   \n",
       "1  2006-04-01 01:00:00.000 +0200        rain         9.355556   \n",
       "2  2006-04-01 02:00:00.000 +0200        rain         9.377778   \n",
       "3  2006-04-01 03:00:00.000 +0200        rain         8.288889   \n",
       "4  2006-04-01 04:00:00.000 +0200        rain         8.755556   \n",
       "\n",
       "   Apparent Temperature (C)  Humidity  Wind Speed (km/h)  \\\n",
       "0                  7.388889      0.89            14.1197   \n",
       "1                  7.227778      0.86            14.2646   \n",
       "2                  9.377778      0.89             3.9284   \n",
       "3                  5.944444      0.83            14.1036   \n",
       "4                  6.977778      0.83            11.0446   \n",
       "\n",
       "   Wind Bearing (degrees)  Visibility (km)  Pressure (millibars)  \n",
       "0                     251          15.8263               1015.13  \n",
       "1                     259          15.8263               1015.63  \n",
       "2                     204          14.9569               1015.94  \n",
       "3                     269          15.8263               1016.41  \n",
       "4                     259          15.8263               1016.51  "
      ]
     },
     "execution_count": 388,
     "metadata": {},
     "output_type": "execute_result"
    }
   ],
   "source": [
    "df.drop(['Cloud Cover'],axis=1,inplace=True)\n",
    "df.head()"
   ]
  },
  {
   "cell_type": "code",
   "execution_count": 389,
   "id": "fefd22b8",
   "metadata": {},
   "outputs": [
    {
     "data": {
      "text/html": [
       "<div>\n",
       "<style scoped>\n",
       "    .dataframe tbody tr th:only-of-type {\n",
       "        vertical-align: middle;\n",
       "    }\n",
       "\n",
       "    .dataframe tbody tr th {\n",
       "        vertical-align: top;\n",
       "    }\n",
       "\n",
       "    .dataframe thead th {\n",
       "        text-align: right;\n",
       "    }\n",
       "</style>\n",
       "<table border=\"1\" class=\"dataframe\">\n",
       "  <thead>\n",
       "    <tr style=\"text-align: right;\">\n",
       "      <th></th>\n",
       "      <th>Precip Type</th>\n",
       "      <th>Temperature (C)</th>\n",
       "      <th>Apparent Temperature (C)</th>\n",
       "      <th>Humidity</th>\n",
       "      <th>Wind Speed (km/h)</th>\n",
       "      <th>Wind Bearing (degrees)</th>\n",
       "      <th>Visibility (km)</th>\n",
       "      <th>Pressure (millibars)</th>\n",
       "      <th>datetime</th>\n",
       "      <th>day_of_year_sin</th>\n",
       "      <th>day_of_year_cos</th>\n",
       "      <th>hour_sin</th>\n",
       "      <th>hour_cos</th>\n",
       "    </tr>\n",
       "  </thead>\n",
       "  <tbody>\n",
       "    <tr>\n",
       "      <th>0</th>\n",
       "      <td>rain</td>\n",
       "      <td>9.472222</td>\n",
       "      <td>7.388889</td>\n",
       "      <td>0.89</td>\n",
       "      <td>14.1197</td>\n",
       "      <td>251</td>\n",
       "      <td>15.8263</td>\n",
       "      <td>1015.13</td>\n",
       "      <td>2006-03-31 22:00:00+00:00</td>\n",
       "      <td>0.999745</td>\n",
       "      <td>0.022576</td>\n",
       "      <td>-0.500000</td>\n",
       "      <td>0.866025</td>\n",
       "    </tr>\n",
       "    <tr>\n",
       "      <th>1</th>\n",
       "      <td>rain</td>\n",
       "      <td>9.355556</td>\n",
       "      <td>7.227778</td>\n",
       "      <td>0.86</td>\n",
       "      <td>14.2646</td>\n",
       "      <td>259</td>\n",
       "      <td>15.8263</td>\n",
       "      <td>1015.63</td>\n",
       "      <td>2006-03-31 23:00:00+00:00</td>\n",
       "      <td>0.999745</td>\n",
       "      <td>0.022576</td>\n",
       "      <td>-0.258819</td>\n",
       "      <td>0.965926</td>\n",
       "    </tr>\n",
       "    <tr>\n",
       "      <th>2</th>\n",
       "      <td>rain</td>\n",
       "      <td>9.377778</td>\n",
       "      <td>9.377778</td>\n",
       "      <td>0.89</td>\n",
       "      <td>3.9284</td>\n",
       "      <td>204</td>\n",
       "      <td>14.9569</td>\n",
       "      <td>1015.94</td>\n",
       "      <td>2006-04-01 00:00:00+00:00</td>\n",
       "      <td>0.999986</td>\n",
       "      <td>0.005376</td>\n",
       "      <td>0.000000</td>\n",
       "      <td>1.000000</td>\n",
       "    </tr>\n",
       "    <tr>\n",
       "      <th>3</th>\n",
       "      <td>rain</td>\n",
       "      <td>8.288889</td>\n",
       "      <td>5.944444</td>\n",
       "      <td>0.83</td>\n",
       "      <td>14.1036</td>\n",
       "      <td>269</td>\n",
       "      <td>15.8263</td>\n",
       "      <td>1016.41</td>\n",
       "      <td>2006-04-01 01:00:00+00:00</td>\n",
       "      <td>0.999986</td>\n",
       "      <td>0.005376</td>\n",
       "      <td>0.258819</td>\n",
       "      <td>0.965926</td>\n",
       "    </tr>\n",
       "    <tr>\n",
       "      <th>4</th>\n",
       "      <td>rain</td>\n",
       "      <td>8.755556</td>\n",
       "      <td>6.977778</td>\n",
       "      <td>0.83</td>\n",
       "      <td>11.0446</td>\n",
       "      <td>259</td>\n",
       "      <td>15.8263</td>\n",
       "      <td>1016.51</td>\n",
       "      <td>2006-04-01 02:00:00+00:00</td>\n",
       "      <td>0.999986</td>\n",
       "      <td>0.005376</td>\n",
       "      <td>0.500000</td>\n",
       "      <td>0.866025</td>\n",
       "    </tr>\n",
       "  </tbody>\n",
       "</table>\n",
       "</div>"
      ],
      "text/plain": [
       "  Precip Type  Temperature (C)  Apparent Temperature (C)  Humidity  \\\n",
       "0        rain         9.472222                  7.388889      0.89   \n",
       "1        rain         9.355556                  7.227778      0.86   \n",
       "2        rain         9.377778                  9.377778      0.89   \n",
       "3        rain         8.288889                  5.944444      0.83   \n",
       "4        rain         8.755556                  6.977778      0.83   \n",
       "\n",
       "   Wind Speed (km/h)  Wind Bearing (degrees)  Visibility (km)  \\\n",
       "0            14.1197                     251          15.8263   \n",
       "1            14.2646                     259          15.8263   \n",
       "2             3.9284                     204          14.9569   \n",
       "3            14.1036                     269          15.8263   \n",
       "4            11.0446                     259          15.8263   \n",
       "\n",
       "   Pressure (millibars)                  datetime  day_of_year_sin  \\\n",
       "0               1015.13 2006-03-31 22:00:00+00:00         0.999745   \n",
       "1               1015.63 2006-03-31 23:00:00+00:00         0.999745   \n",
       "2               1015.94 2006-04-01 00:00:00+00:00         0.999986   \n",
       "3               1016.41 2006-04-01 01:00:00+00:00         0.999986   \n",
       "4               1016.51 2006-04-01 02:00:00+00:00         0.999986   \n",
       "\n",
       "   day_of_year_cos  hour_sin  hour_cos  \n",
       "0         0.022576 -0.500000  0.866025  \n",
       "1         0.022576 -0.258819  0.965926  \n",
       "2         0.005376  0.000000  1.000000  \n",
       "3         0.005376  0.258819  0.965926  \n",
       "4         0.005376  0.500000  0.866025  "
      ]
     },
     "execution_count": 389,
     "metadata": {},
     "output_type": "execute_result"
    }
   ],
   "source": [
    "df['datetime'] = pd.to_datetime(df['Formatted Date'], utc=True)\n",
    "df['DayOfYear'] = df['datetime'].dt.dayofyear\n",
    "df['Hour'] = df['datetime'].dt.hour\n",
    "\n",
    "df['day_of_year_sin'] = np.sin(2 * np.pi * df['DayOfYear'] / 365.25)\n",
    "df['day_of_year_cos'] = np.cos(2 * np.pi * df['DayOfYear'] / 365.25)\n",
    "\n",
    "df['hour_sin'] = np.sin(2 * np.pi * df['Hour'] / 24)\n",
    "df['hour_cos'] = np.cos(2 * np.pi * df['Hour'] / 24)\n",
    "\n",
    "df = df.drop(['Formatted Date', 'DayOfYear', 'Hour'], axis=1)\n",
    "\n",
    "df.head()"
   ]
  },
  {
   "cell_type": "code",
   "execution_count": 390,
   "id": "a7127c40",
   "metadata": {},
   "outputs": [
    {
     "data": {
      "image/png": "[encoded data removed]",
      "text/plain": [
       "<Figure size 1200x1600 with 8 Axes>"
      ]
     },
     "metadata": {},
     "output_type": "display_data"
    }
   ],
   "source": [
    "columns_to_plot = [\n",
    "    'Temperature (C)',\n",
    "    'Apparent Temperature (C)',\n",
    "    'Humidity',\n",
    "    'Wind Speed (km/h)',\n",
    "    'Wind Bearing (degrees)',\n",
    "    'Visibility (km)',\n",
    "    'Cloud Cover',\n",
    "    'Pressure (millibars)'\n",
    "]\n",
    "\n",
    "fig, axes = plt.subplots(nrows=4, ncols=2, figsize=(12, 16))\n",
    "\n",
    "for ax, col in zip(axes.flatten(), columns_to_plot):\n",
    "    if col in df.columns:\n",
    "        sns.boxplot(data=df, y=col, ax=ax)\n",
    "        ax.set_title(f'Boxplot of {col}', fontsize=12)\n",
    "        ax.set_xlabel('')\n",
    "        ax.set_ylabel('Value')\n",
    "        \n",
    "plt.tight_layout()"
   ]
  },
  {
   "cell_type": "code",
   "execution_count": 391,
   "id": "57fe3e49",
   "metadata": {},
   "outputs": [
    {
     "data": {
      "text/plain": [
       "(91511, 13)"
      ]
     },
     "execution_count": 391,
     "metadata": {},
     "output_type": "execute_result"
    }
   ],
   "source": [
    "IQR = df['Pressure (millibars)'].quantile(0.75) - df['Pressure (millibars)'].quantile(0.25)\n",
    "upper = df['Pressure (millibars)'].quantile(0.75) + 1.5 * IQR\n",
    "lower = df['Pressure (millibars)'].quantile(0.25) - 1.5 * IQR\n",
    "df = df[(df['Pressure (millibars)'] < upper) & (df['Pressure (millibars)'] > lower)]\n",
    "df.shape"
   ]
  },
  {
   "cell_type": "code",
   "execution_count": 392,
   "id": "571de2ec",
   "metadata": {},
   "outputs": [
    {
     "data": {
      "text/plain": [
       "(89536, 13)"
      ]
     },
     "execution_count": 392,
     "metadata": {},
     "output_type": "execute_result"
    }
   ],
   "source": [
    "IQR = df['Visibility (km)'].quantile(0.75) - df['Visibility (km)'].quantile(0.25)\n",
    "upper = df['Visibility (km)'].quantile(0.75) + 1.5 * IQR\n",
    "lower = df['Visibility (km)'].quantile(0.25) - 1.5 * IQR\n",
    "df = df[(df['Visibility (km)'] < upper) & (df['Visibility (km)'] > lower)]\n",
    "df.shape"
   ]
  },
  {
   "cell_type": "code",
   "execution_count": 393,
   "id": "0e8ddadd",
   "metadata": {},
   "outputs": [
    {
     "data": {
      "text/plain": [
       "(89517, 13)"
      ]
     },
     "execution_count": 393,
     "metadata": {},
     "output_type": "execute_result"
    }
   ],
   "source": [
    "IQR = df['Humidity'].quantile(0.75) - df['Humidity'].quantile(0.25)\n",
    "upper = df['Humidity'].quantile(0.75) + 1.5 * IQR\n",
    "lower = df['Humidity'].quantile(0.25) - 1.5 * IQR\n",
    "df = df[(df['Humidity'] < upper) & (df['Humidity'] > lower)]\n",
    "df.shape"
   ]
  },
  {
   "cell_type": "code",
   "execution_count": 394,
   "id": "1eadf184",
   "metadata": {},
   "outputs": [
    {
     "data": {
      "text/plain": [
       "(86698, 13)"
      ]
     },
     "execution_count": 394,
     "metadata": {},
     "output_type": "execute_result"
    }
   ],
   "source": [
    "IQR = df['Wind Speed (km/h)'].quantile(0.75) - df['Wind Speed (km/h)'].quantile(0.25)\n",
    "upper = df['Wind Speed (km/h)'].quantile(0.75) + 1.5 * IQR\n",
    "lower = df['Wind Speed (km/h)'].quantile(0.25) - 1.5 * IQR\n",
    "df = df[(df['Wind Speed (km/h)'] < upper) & (df['Wind Speed (km/h)'] > lower)]\n",
    "df.shape"
   ]
  },
  {
   "cell_type": "code",
   "execution_count": 395,
   "id": "8a09c997",
   "metadata": {},
   "outputs": [
    {
     "data": {
      "text/plain": [
       "Temperature (C)             0.051363\n",
       "Apparent Temperature (C)   -0.120333\n",
       "Humidity                   -0.690852\n",
       "Wind Speed (km/h)           0.555885\n",
       "Wind Bearing (degrees)     -0.146679\n",
       "Visibility (km)            -0.393307\n",
       "Pressure (millibars)        0.094939\n",
       "day_of_year_sin             0.009385\n",
       "day_of_year_cos             0.113568\n",
       "hour_sin                    0.015086\n",
       "hour_cos                   -0.011587\n",
       "dtype: float64"
      ]
     },
     "execution_count": 395,
     "metadata": {},
     "output_type": "execute_result"
    }
   ],
   "source": [
    "df.skew(numeric_only=True)"
   ]
  },
  {
   "cell_type": "code",
   "execution_count": 396,
   "id": "3327c6dc",
   "metadata": {},
   "outputs": [],
   "source": [
    "cols_to_transform = ['Humidity', 'Wind Speed (km/h)']\n",
    "\n",
    "pt = PowerTransformer(method='yeo-johnson', standardize=True)\n",
    "df[cols_to_transform] = pt.fit_transform(df[cols_to_transform])"
   ]
  },
  {
   "cell_type": "code",
   "execution_count": 397,
   "id": "b9a7140e",
   "metadata": {},
   "outputs": [
    {
     "data": {
      "text/plain": [
       "Temperature (C)             0.051363\n",
       "Apparent Temperature (C)   -0.120333\n",
       "Humidity                   -0.197094\n",
       "Wind Speed (km/h)          -0.049952\n",
       "Wind Bearing (degrees)     -0.146679\n",
       "Visibility (km)            -0.393307\n",
       "Pressure (millibars)        0.094939\n",
       "day_of_year_sin             0.009385\n",
       "day_of_year_cos             0.113568\n",
       "hour_sin                    0.015086\n",
       "hour_cos                   -0.011587\n",
       "dtype: float64"
      ]
     },
     "execution_count": 397,
     "metadata": {},
     "output_type": "execute_result"
    }
   ],
   "source": [
    "df.skew(numeric_only=True)"
   ]
  },
  {
   "cell_type": "code",
   "execution_count": 398,
   "id": "7d382cf6",
   "metadata": {},
   "outputs": [
    {
     "data": {
      "text/html": [
       "<div>\n",
       "<style scoped>\n",
       "    .dataframe tbody tr th:only-of-type {\n",
       "        vertical-align: middle;\n",
       "    }\n",
       "\n",
       "    .dataframe tbody tr th {\n",
       "        vertical-align: top;\n",
       "    }\n",
       "\n",
       "    .dataframe thead th {\n",
       "        text-align: right;\n",
       "    }\n",
       "</style>\n",
       "<table border=\"1\" class=\"dataframe\">\n",
       "  <thead>\n",
       "    <tr style=\"text-align: right;\">\n",
       "      <th></th>\n",
       "      <th>Precip Type</th>\n",
       "      <th>Temperature (C)</th>\n",
       "      <th>Apparent Temperature (C)</th>\n",
       "      <th>Humidity</th>\n",
       "      <th>Wind Speed (km/h)</th>\n",
       "      <th>Wind Bearing (degrees)</th>\n",
       "      <th>Visibility (km)</th>\n",
       "      <th>Pressure (millibars)</th>\n",
       "      <th>datetime</th>\n",
       "      <th>day_of_year_sin</th>\n",
       "      <th>day_of_year_cos</th>\n",
       "      <th>hour_sin</th>\n",
       "      <th>hour_cos</th>\n",
       "    </tr>\n",
       "  </thead>\n",
       "  <tbody>\n",
       "    <tr>\n",
       "      <th>0</th>\n",
       "      <td>rain</td>\n",
       "      <td>9.472222</td>\n",
       "      <td>7.388889</td>\n",
       "      <td>0.847067</td>\n",
       "      <td>0.736945</td>\n",
       "      <td>251</td>\n",
       "      <td>15.8263</td>\n",
       "      <td>1015.13</td>\n",
       "      <td>2006-03-31 22:00:00+00:00</td>\n",
       "      <td>0.999745</td>\n",
       "      <td>0.022576</td>\n",
       "      <td>-0.500000</td>\n",
       "      <td>0.866025</td>\n",
       "    </tr>\n",
       "    <tr>\n",
       "      <th>1</th>\n",
       "      <td>rain</td>\n",
       "      <td>9.355556</td>\n",
       "      <td>7.227778</td>\n",
       "      <td>0.633758</td>\n",
       "      <td>0.757900</td>\n",
       "      <td>259</td>\n",
       "      <td>15.8263</td>\n",
       "      <td>1015.63</td>\n",
       "      <td>2006-03-31 23:00:00+00:00</td>\n",
       "      <td>0.999745</td>\n",
       "      <td>0.022576</td>\n",
       "      <td>-0.258819</td>\n",
       "      <td>0.965926</td>\n",
       "    </tr>\n",
       "    <tr>\n",
       "      <th>2</th>\n",
       "      <td>rain</td>\n",
       "      <td>9.377778</td>\n",
       "      <td>9.377778</td>\n",
       "      <td>0.847067</td>\n",
       "      <td>-1.120770</td>\n",
       "      <td>204</td>\n",
       "      <td>14.9569</td>\n",
       "      <td>1015.94</td>\n",
       "      <td>2006-04-01 00:00:00+00:00</td>\n",
       "      <td>0.999986</td>\n",
       "      <td>0.005376</td>\n",
       "      <td>0.000000</td>\n",
       "      <td>1.000000</td>\n",
       "    </tr>\n",
       "    <tr>\n",
       "      <th>3</th>\n",
       "      <td>rain</td>\n",
       "      <td>8.288889</td>\n",
       "      <td>5.944444</td>\n",
       "      <td>0.430830</td>\n",
       "      <td>0.734611</td>\n",
       "      <td>269</td>\n",
       "      <td>15.8263</td>\n",
       "      <td>1016.41</td>\n",
       "      <td>2006-04-01 01:00:00+00:00</td>\n",
       "      <td>0.999986</td>\n",
       "      <td>0.005376</td>\n",
       "      <td>0.258819</td>\n",
       "      <td>0.965926</td>\n",
       "    </tr>\n",
       "    <tr>\n",
       "      <th>4</th>\n",
       "      <td>rain</td>\n",
       "      <td>8.755556</td>\n",
       "      <td>6.977778</td>\n",
       "      <td>0.430830</td>\n",
       "      <td>0.267181</td>\n",
       "      <td>259</td>\n",
       "      <td>15.8263</td>\n",
       "      <td>1016.51</td>\n",
       "      <td>2006-04-01 02:00:00+00:00</td>\n",
       "      <td>0.999986</td>\n",
       "      <td>0.005376</td>\n",
       "      <td>0.500000</td>\n",
       "      <td>0.866025</td>\n",
       "    </tr>\n",
       "  </tbody>\n",
       "</table>\n",
       "</div>"
      ],
      "text/plain": [
       "  Precip Type  Temperature (C)  Apparent Temperature (C)  Humidity  \\\n",
       "0        rain         9.472222                  7.388889  0.847067   \n",
       "1        rain         9.355556                  7.227778  0.633758   \n",
       "2        rain         9.377778                  9.377778  0.847067   \n",
       "3        rain         8.288889                  5.944444  0.430830   \n",
       "4        rain         8.755556                  6.977778  0.430830   \n",
       "\n",
       "   Wind Speed (km/h)  Wind Bearing (degrees)  Visibility (km)  \\\n",
       "0           0.736945                     251          15.8263   \n",
       "1           0.757900                     259          15.8263   \n",
       "2          -1.120770                     204          14.9569   \n",
       "3           0.734611                     269          15.8263   \n",
       "4           0.267181                     259          15.8263   \n",
       "\n",
       "   Pressure (millibars)                  datetime  day_of_year_sin  \\\n",
       "0               1015.13 2006-03-31 22:00:00+00:00         0.999745   \n",
       "1               1015.63 2006-03-31 23:00:00+00:00         0.999745   \n",
       "2               1015.94 2006-04-01 00:00:00+00:00         0.999986   \n",
       "3               1016.41 2006-04-01 01:00:00+00:00         0.999986   \n",
       "4               1016.51 2006-04-01 02:00:00+00:00         0.999986   \n",
       "\n",
       "   day_of_year_cos  hour_sin  hour_cos  \n",
       "0         0.022576 -0.500000  0.866025  \n",
       "1         0.022576 -0.258819  0.965926  \n",
       "2         0.005376  0.000000  1.000000  \n",
       "3         0.005376  0.258819  0.965926  \n",
       "4         0.005376  0.500000  0.866025  "
      ]
     },
     "execution_count": 398,
     "metadata": {},
     "output_type": "execute_result"
    }
   ],
   "source": [
    "df.head()"
   ]
  },
  {
   "cell_type": "code",
   "execution_count": 399,
   "id": "a1f1df02",
   "metadata": {},
   "outputs": [
    {
     "data": {
      "text/html": [
       "<div>\n",
       "<style scoped>\n",
       "    .dataframe tbody tr th:only-of-type {\n",
       "        vertical-align: middle;\n",
       "    }\n",
       "\n",
       "    .dataframe tbody tr th {\n",
       "        vertical-align: top;\n",
       "    }\n",
       "\n",
       "    .dataframe thead th {\n",
       "        text-align: right;\n",
       "    }\n",
       "</style>\n",
       "<table border=\"1\" class=\"dataframe\">\n",
       "  <thead>\n",
       "    <tr style=\"text-align: right;\">\n",
       "      <th></th>\n",
       "      <th>Precip Type</th>\n",
       "      <th>Temperature (C)</th>\n",
       "      <th>Apparent Temperature (C)</th>\n",
       "      <th>Humidity</th>\n",
       "      <th>Wind Speed (km/h)</th>\n",
       "      <th>Wind Bearing (degrees)</th>\n",
       "      <th>Visibility (km)</th>\n",
       "      <th>Pressure (millibars)</th>\n",
       "      <th>datetime</th>\n",
       "      <th>day_of_year_sin</th>\n",
       "      <th>day_of_year_cos</th>\n",
       "      <th>hour_sin</th>\n",
       "      <th>hour_cos</th>\n",
       "    </tr>\n",
       "  </thead>\n",
       "  <tbody>\n",
       "    <tr>\n",
       "      <th>0</th>\n",
       "      <td>0</td>\n",
       "      <td>9.472222</td>\n",
       "      <td>7.388889</td>\n",
       "      <td>0.847067</td>\n",
       "      <td>0.736945</td>\n",
       "      <td>251</td>\n",
       "      <td>15.8263</td>\n",
       "      <td>1015.13</td>\n",
       "      <td>2006-03-31 22:00:00+00:00</td>\n",
       "      <td>0.999745</td>\n",
       "      <td>0.022576</td>\n",
       "      <td>-0.500000</td>\n",
       "      <td>0.866025</td>\n",
       "    </tr>\n",
       "    <tr>\n",
       "      <th>1</th>\n",
       "      <td>0</td>\n",
       "      <td>9.355556</td>\n",
       "      <td>7.227778</td>\n",
       "      <td>0.633758</td>\n",
       "      <td>0.757900</td>\n",
       "      <td>259</td>\n",
       "      <td>15.8263</td>\n",
       "      <td>1015.63</td>\n",
       "      <td>2006-03-31 23:00:00+00:00</td>\n",
       "      <td>0.999745</td>\n",
       "      <td>0.022576</td>\n",
       "      <td>-0.258819</td>\n",
       "      <td>0.965926</td>\n",
       "    </tr>\n",
       "    <tr>\n",
       "      <th>2</th>\n",
       "      <td>0</td>\n",
       "      <td>9.377778</td>\n",
       "      <td>9.377778</td>\n",
       "      <td>0.847067</td>\n",
       "      <td>-1.120770</td>\n",
       "      <td>204</td>\n",
       "      <td>14.9569</td>\n",
       "      <td>1015.94</td>\n",
       "      <td>2006-04-01 00:00:00+00:00</td>\n",
       "      <td>0.999986</td>\n",
       "      <td>0.005376</td>\n",
       "      <td>0.000000</td>\n",
       "      <td>1.000000</td>\n",
       "    </tr>\n",
       "    <tr>\n",
       "      <th>3</th>\n",
       "      <td>0</td>\n",
       "      <td>8.288889</td>\n",
       "      <td>5.944444</td>\n",
       "      <td>0.430830</td>\n",
       "      <td>0.734611</td>\n",
       "      <td>269</td>\n",
       "      <td>15.8263</td>\n",
       "      <td>1016.41</td>\n",
       "      <td>2006-04-01 01:00:00+00:00</td>\n",
       "      <td>0.999986</td>\n",
       "      <td>0.005376</td>\n",
       "      <td>0.258819</td>\n",
       "      <td>0.965926</td>\n",
       "    </tr>\n",
       "    <tr>\n",
       "      <th>4</th>\n",
       "      <td>0</td>\n",
       "      <td>8.755556</td>\n",
       "      <td>6.977778</td>\n",
       "      <td>0.430830</td>\n",
       "      <td>0.267181</td>\n",
       "      <td>259</td>\n",
       "      <td>15.8263</td>\n",
       "      <td>1016.51</td>\n",
       "      <td>2006-04-01 02:00:00+00:00</td>\n",
       "      <td>0.999986</td>\n",
       "      <td>0.005376</td>\n",
       "      <td>0.500000</td>\n",
       "      <td>0.866025</td>\n",
       "    </tr>\n",
       "  </tbody>\n",
       "</table>\n",
       "</div>"
      ],
      "text/plain": [
       "   Precip Type  Temperature (C)  Apparent Temperature (C)  Humidity  \\\n",
       "0            0         9.472222                  7.388889  0.847067   \n",
       "1            0         9.355556                  7.227778  0.633758   \n",
       "2            0         9.377778                  9.377778  0.847067   \n",
       "3            0         8.288889                  5.944444  0.430830   \n",
       "4            0         8.755556                  6.977778  0.430830   \n",
       "\n",
       "   Wind Speed (km/h)  Wind Bearing (degrees)  Visibility (km)  \\\n",
       "0           0.736945                     251          15.8263   \n",
       "1           0.757900                     259          15.8263   \n",
       "2          -1.120770                     204          14.9569   \n",
       "3           0.734611                     269          15.8263   \n",
       "4           0.267181                     259          15.8263   \n",
       "\n",
       "   Pressure (millibars)                  datetime  day_of_year_sin  \\\n",
       "0               1015.13 2006-03-31 22:00:00+00:00         0.999745   \n",
       "1               1015.63 2006-03-31 23:00:00+00:00         0.999745   \n",
       "2               1015.94 2006-04-01 00:00:00+00:00         0.999986   \n",
       "3               1016.41 2006-04-01 01:00:00+00:00         0.999986   \n",
       "4               1016.51 2006-04-01 02:00:00+00:00         0.999986   \n",
       "\n",
       "   day_of_year_cos  hour_sin  hour_cos  \n",
       "0         0.022576 -0.500000  0.866025  \n",
       "1         0.022576 -0.258819  0.965926  \n",
       "2         0.005376  0.000000  1.000000  \n",
       "3         0.005376  0.258819  0.965926  \n",
       "4         0.005376  0.500000  0.866025  "
      ]
     },
     "execution_count": 399,
     "metadata": {},
     "output_type": "execute_result"
    }
   ],
   "source": [
    "df['Precip Type'] = df['Precip Type'].map({'rain': 0, 'snow': 1}).astype(int)\n",
    "df.head()"
   ]
  },
  {
   "cell_type": "code",
   "execution_count": 400,
   "id": "ddfd02c7",
   "metadata": {},
   "outputs": [
    {
     "data": {
      "text/plain": [
       "Precip Type\n",
       "0    78520\n",
       "1     8178\n",
       "Name: count, dtype: int64"
      ]
     },
     "execution_count": 400,
     "metadata": {},
     "output_type": "execute_result"
    }
   ],
   "source": [
    "df['Precip Type'].value_counts()"
   ]
  },
  {
   "cell_type": "code",
   "execution_count": 401,
   "id": "3eda6a9f",
   "metadata": {},
   "outputs": [
    {
     "data": {
      "text/plain": [
       "Precip Type\n",
       "0    78520\n",
       "1    78520\n",
       "Name: count, dtype: int64"
      ]
     },
     "execution_count": 401,
     "metadata": {},
     "output_type": "execute_result"
    }
   ],
   "source": [
    "upsample_count = df['Precip Type'].value_counts().max()\n",
    "df_minority = df[df['Precip Type'] == 1]   \n",
    "df_minority_upsampled = df_minority.sample(upsample_count, replace=True, random_state=42)\n",
    "df_majority = df[df['Precip Type'] == 0]\n",
    "df= pd.concat([df_majority, df_minority_upsampled])\n",
    "df['Precip Type'].value_counts()"
   ]
  },
  {
   "cell_type": "code",
   "execution_count": 402,
   "id": "8fe2b5e5",
   "metadata": {},
   "outputs": [],
   "source": [
    "x = df.drop(['Precip Type','datetime'], axis=1)\n",
    "y = df['Precip Type']\n",
    "\n",
    "x_train, x_test, y_train, y_test = train_test_split(x, y, test_size=0.2, random_state=42)"
   ]
  },
  {
   "cell_type": "code",
   "execution_count": 403,
   "id": "58b8a502",
   "metadata": {},
   "outputs": [
    {
     "data": {
      "text/plain": [
       "Index(['Temperature (C)', 'Apparent Temperature (C)', 'Humidity',\n",
       "       'Wind Speed (km/h)', 'Wind Bearing (degrees)', 'Visibility (km)',\n",
       "       'Pressure (millibars)', 'day_of_year_sin', 'day_of_year_cos',\n",
       "       'hour_sin', 'hour_cos'],\n",
       "      dtype='object')"
      ]
     },
     "execution_count": 403,
     "metadata": {},
     "output_type": "execute_result"
    }
   ],
   "source": [
    "(x.columns)"
   ]
  },
  {
   "cell_type": "code",
   "execution_count": 404,
   "id": "9d236a8b",
   "metadata": {},
   "outputs": [
    {
     "name": "stdout",
     "output_type": "stream",
     "text": [
      "R2 score: 0.989428935453877\n",
      "MSE: 0.002642638818135507\n",
      "RMSE: 0.051406602865152515\n",
      "MAE: 0.002642638818135507\n"
     ]
    }
   ],
   "source": [
    "l_reg = LogisticRegression( max_iter=2000)\n",
    "l_reg.fit(x_train, y_train)\n",
    "y_pred_r = l_reg.predict(x_test)\n",
    "print(\"R2 score:\", r2_score(y_test, y_pred_r))\n",
    "print(\"MSE:\", mean_squared_error(y_test, y_pred_r))\n",
    "print(\"RMSE:\", root_mean_squared_error(y_test, y_pred_r))\n",
    "print(\"MAE:\", mean_absolute_error(y_test, y_pred_r))"
   ]
  },
  {
   "cell_type": "code",
   "execution_count": 405,
   "id": "47b64a7c",
   "metadata": {},
   "outputs": [
    {
     "name": "stdout",
     "output_type": "stream",
     "text": [
      "Fitting 3 folds for each of 50 candidates, totalling 150 fits\n",
      "R2 score: 0.9999854052444419\n",
      "MSE: 3.648513109595799e-06\n",
      "RMSE: 0.0019101081408118754\n",
      "MAE: 0.00017060671158550904\n"
     ]
    }
   ],
   "source": [
    "from scipy.stats import randint\n",
    "\n",
    "\n",
    "r_reg = RandomForestRegressor()\n",
    "param_dist = {\n",
    "    'n_estimators': randint(100, 500),\n",
    "    'max_depth': randint(5, 30),\n",
    "    'min_samples_split': randint(2, 10),\n",
    "    'min_samples_leaf': randint(1, 5),\n",
    "    'max_features': ['sqrt', 'log2']\n",
    "}\n",
    "\n",
    "random_search = RandomizedSearchCV(\n",
    "    estimator=r_reg,\n",
    "    param_distributions=param_dist,\n",
    "    n_iter=50,   \n",
    "    cv=3,             \n",
    "    scoring='r2',     \n",
    "    verbose=2,\n",
    "    random_state=42,\n",
    "    n_jobs=-1,\n",
    "    error_score='raise'\n",
    ")\n",
    "\n",
    "random_search.fit(x_train, y_train)\n",
    "best_r_reg = random_search.best_estimator_\n",
    "y_pred_r = best_r_reg.predict(x_test)\n",
    "print(\"R2 score:\", r2_score(y_test, y_pred_r))\n",
    "print(\"MSE:\", mean_squared_error(y_test, y_pred_r))\n",
    "print(\"RMSE:\", root_mean_squared_error(y_test, y_pred_r))\n",
    "print(\"MAE:\", mean_absolute_error(y_test, y_pred_r))"
   ]
  },
  {
   "cell_type": "code",
   "execution_count": 406,
   "id": "efd5d1e3",
   "metadata": {},
   "outputs": [
    {
     "name": "stdout",
     "output_type": "stream",
     "text": [
      "Fitting 3 folds for each of 10 candidates, totalling 30 fits\n",
      "XGB R2: 0.9992861747741699\n",
      "XGB MSE: 0.00017844169633463025\n",
      "XGB RMSE: 0.013358207419514656\n",
      "XGB MAE: 0.00041176812374033034\n"
     ]
    }
   ],
   "source": [
    "xgb_param_grid = {\n",
    "    'n_estimators': [100, 200, 300],\n",
    "    'max_depth': [3, 5, 7, 10],\n",
    "    'learning_rate': [0.01, 0.05, 0.1],\n",
    "    'subsample': [0.6, 0.8, 1.0],\n",
    "    'colsample_bytree': [0.6, 0.8, 1.0]\n",
    "}\n",
    "\n",
    "\n",
    "x_reg = XGBRegressor()\n",
    "xgb_grid = RandomizedSearchCV(x_reg, xgb_param_grid, cv=3, scoring='r2', n_jobs=-1, verbose=2)\n",
    "xgb_grid.fit(x_train, y_train)\n",
    "best_xgb = xgb_grid.best_estimator_\n",
    "y_pred_xgb = best_xgb.predict(x_test)\n",
    "print(\"XGB R2:\", r2_score(y_test, y_pred_xgb))\n",
    "print(\"XGB MSE:\", mean_squared_error(y_test, y_pred_xgb))\n",
    "print(\"XGB RMSE:\", root_mean_squared_error(y_test, y_pred_xgb))\n",
    "print(\"XGB MAE:\", mean_absolute_error(y_test, y_pred_xgb))"
   ]
  },
  {
   "cell_type": "code",
   "execution_count": 407,
   "id": "eea7d58f",
   "metadata": {},
   "outputs": [],
   "source": [
    "import pickle\n",
    "with open('rain_prediction_model.pkl', 'wb') as f:\n",
    "    pickle.dump(best_xgb, f)\n",
    "with open('pt_transformer.pkl', 'wb') as f:\n",
    "    pickle.dump(pt, f)"
   ]
  },
  {
   "cell_type": "code",
   "execution_count": 408,
   "id": "d2e18ce7",
   "metadata": {},
   "outputs": [
    {
     "name": "stderr",
     "output_type": "stream",
     "text": [
      "2025/10/27 14:12:22 INFO mlflow.tracking.fluent: Experiment with name 'Precipitation Prediction Experiment' does not exist. Creating a new experiment.\n"
     ]
    },
    {
     "data": {
      "text/plain": [
       "<Experiment: artifact_location='file:///d:/git/end%20to%20end/mlruns/886923472806864712', creation_time=1761554542152, experiment_id='886923472806864712', last_update_time=1761554542152, lifecycle_stage='active', name='Precipitation Prediction Experiment', tags={}>"
      ]
     },
     "execution_count": 408,
     "metadata": {},
     "output_type": "execute_result"
    }
   ],
   "source": [
    "import mlflow\n",
    "import mlflow.sklearn\n",
    "mlflow.set_experiment(\"Precipitation Prediction Experiment\")"
   ]
  },
  {
   "cell_type": "code",
   "execution_count": null,
   "id": "2e556e77",
   "metadata": {},
   "outputs": [],
   "source": []
  }
 ],
 "metadata": {
  "kernelspec": {
   "display_name": "Python (myvenv)",
   "language": "python",
   "name": "myvenv"
  },
  "language_info": {
   "codemirror_mode": {
    "name": "ipython",
    "version": 3
   },
   "file_extension": ".py",
   "mimetype": "text/x-python",
   "name": "python",
   "nbconvert_exporter": "python",
   "pygments_lexer": "ipython3",
   "version": "3.13.7"
  }
 },
 "nbformat": 4,
 "nbformat_minor": 5
}
